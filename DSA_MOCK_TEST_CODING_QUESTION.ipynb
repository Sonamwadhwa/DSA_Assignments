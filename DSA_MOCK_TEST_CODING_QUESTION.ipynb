{
  "nbformat": 4,
  "nbformat_minor": 0,
  "metadata": {
    "colab": {
      "provenance": []
    },
    "kernelspec": {
      "name": "python3",
      "display_name": "Python 3"
    },
    "language_info": {
      "name": "python"
    }
  },
  "cells": [
    {
      "cell_type": "markdown",
      "source": [
        "Implement a stack using a list in Python. Include the necessary methods such as push, pop, and isEmpty.\n"
      ],
      "metadata": {
        "id": "KpV0zmxgUtxi"
      }
    },
    {
      "cell_type": "code",
      "source": [
        "#creating a stack\n",
        "def create_stack():\n",
        "  stack = []\n",
        "  return stack\n",
        "\n",
        "#creating an empty stack\n",
        "def check_empty(stack):\n",
        "  return len(stack) == 0\n",
        "\n",
        "#Adding item into the stack\n",
        "def push(stack, item):\n",
        "  stack.append(item)\n",
        "  print(\"Pushed item: \" + item)\n",
        "\n",
        "\n",
        "#Removing an element from the stack\n",
        "def pop(stack):\n",
        "  if(check_empty(stack)):\n",
        "    return \"stack is empty\"\n",
        "\n",
        "    return stack.pop()\n",
        "\n",
        "    stack = create_stack()\n",
        "    push(stack, str(1))\n",
        "    push(stack, str(2))\n",
        "    push(stack, str(3))\n",
        "    push(stack, str(4))\n",
        "    print(\"popped item:\" +pop(stack))\n",
        "    print(\"stack after popping an element:\" +str(stack))"
      ],
      "metadata": {
        "id": "xWc2UA4OUuYZ"
      },
      "execution_count": 4,
      "outputs": []
    },
    {
      "cell_type": "markdown",
      "source": [
        "Implement a queue using a list in Python. Include the necessary methods such as enqueue, dequeue, and isEmpty.\n"
      ],
      "metadata": {
        "id": "yKgGKOEri2_4"
      }
    },
    {
      "cell_type": "code",
      "source": [
        "class Queue:\n",
        "\n",
        "      def __init__(self):\n",
        "       self.queue =[]\n",
        "\n",
        "        #Add an element\n",
        "      def enqueue(self, item):\n",
        "           self.queue.append(item)\n",
        "\n",
        "      #Remove an element\n",
        "      def dequeue(self):\n",
        "          if len(self.queue) < 1:\n",
        "              return None\n",
        "          return self.queue.pop(0)\n",
        "\n",
        "     #Display the queue\n",
        "      def display(self):\n",
        "          print(self.queue)\n",
        "\n",
        "      def size(self):\n",
        "          return len (self.queue)\n",
        "\n",
        "\n",
        "q = Queue()\n",
        "q.enqueue(1)\n",
        "q.enqueue(2)\n",
        "q.enqueue(3)\n",
        "q.enqueue(4)\n",
        "q.enqueue(5)\n",
        "\n",
        "q.display()\n",
        "\n",
        "q.dequeue()\n",
        "\n",
        "print(\"After removing an element\")\n",
        "q.display()"
      ],
      "metadata": {
        "colab": {
          "base_uri": "https://localhost:8080/"
        },
        "id": "YlWlY9pPi4bx",
        "outputId": "288e27b5-032a-4f8f-84f4-837e53d9c4a7"
      },
      "execution_count": 10,
      "outputs": [
        {
          "output_type": "stream",
          "name": "stdout",
          "text": [
            "[1, 2, 3, 4, 5]\n",
            "After removing an element\n",
            "[2, 3, 4, 5]\n",
            "[1, 2, 3, 4, 5]\n",
            "After removing an element\n",
            "[2, 3, 4, 5]\n"
          ]
        }
      ]
    }
  ]
}